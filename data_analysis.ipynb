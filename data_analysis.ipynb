{
 "cells": [
  {
   "cell_type": "code",
   "execution_count": 1,
   "id": "genetic-trade",
   "metadata": {},
   "outputs": [],
   "source": [
    "import pandas as pd\n",
    "import numpy as np\n",
    "import matplotlib.pyplot as plt\n",
    "import torch"
   ]
  },
  {
   "cell_type": "code",
   "execution_count": 22,
   "id": "passive-isolation",
   "metadata": {},
   "outputs": [
    {
     "data": {
      "text/html": [
       "<div>\n",
       "<style scoped>\n",
       "    .dataframe tbody tr th:only-of-type {\n",
       "        vertical-align: middle;\n",
       "    }\n",
       "\n",
       "    .dataframe tbody tr th {\n",
       "        vertical-align: top;\n",
       "    }\n",
       "\n",
       "    .dataframe thead th {\n",
       "        text-align: right;\n",
       "    }\n",
       "</style>\n",
       "<table border=\"1\" class=\"dataframe\">\n",
       "  <thead>\n",
       "    <tr style=\"text-align: right;\">\n",
       "      <th></th>\n",
       "      <th>ID</th>\n",
       "      <th>LABEL</th>\n",
       "      <th>GENDER</th>\n",
       "      <th>DOB</th>\n",
       "      <th>LYMPH_COUNT</th>\n",
       "    </tr>\n",
       "  </thead>\n",
       "  <tbody>\n",
       "    <tr>\n",
       "      <th>0</th>\n",
       "      <td>P26</td>\n",
       "      <td>1</td>\n",
       "      <td>M</td>\n",
       "      <td>11/3/1933</td>\n",
       "      <td>11.2</td>\n",
       "    </tr>\n",
       "    <tr>\n",
       "      <th>1</th>\n",
       "      <td>P183</td>\n",
       "      <td>1</td>\n",
       "      <td>M</td>\n",
       "      <td>5/15/1942</td>\n",
       "      <td>12.8</td>\n",
       "    </tr>\n",
       "    <tr>\n",
       "      <th>2</th>\n",
       "      <td>P89</td>\n",
       "      <td>1</td>\n",
       "      <td>M</td>\n",
       "      <td>6/19/1935</td>\n",
       "      <td>9.6</td>\n",
       "    </tr>\n",
       "    <tr>\n",
       "      <th>3</th>\n",
       "      <td>P123</td>\n",
       "      <td>1</td>\n",
       "      <td>M</td>\n",
       "      <td>1/27/1931</td>\n",
       "      <td>122.6</td>\n",
       "    </tr>\n",
       "    <tr>\n",
       "      <th>4</th>\n",
       "      <td>P61</td>\n",
       "      <td>1</td>\n",
       "      <td>F</td>\n",
       "      <td>3/5/1931</td>\n",
       "      <td>11.6</td>\n",
       "    </tr>\n",
       "  </tbody>\n",
       "</table>\n",
       "</div>"
      ],
      "text/plain": [
       "     ID  LABEL GENDER        DOB  LYMPH_COUNT\n",
       "0   P26      1      M  11/3/1933         11.2\n",
       "1  P183      1      M  5/15/1942         12.8\n",
       "2   P89      1      M  6/19/1935          9.6\n",
       "3  P123      1      M  1/27/1931        122.6\n",
       "4   P61      1      F   3/5/1931         11.6"
      ]
     },
     "execution_count": 22,
     "metadata": {},
     "output_type": "execute_result"
    }
   ],
   "source": [
    "clinical_df = pd.read_csv('clinical_annotation.csv', index_col=0)\n",
    "clinical_df.head()"
   ]
  },
  {
   "cell_type": "code",
   "execution_count": 23,
   "id": "empty-console",
   "metadata": {},
   "outputs": [],
   "source": [
    "def birthdate_to_age(birthdate):\n",
    "    try:\n",
    "        month, day, year = birthdate.split('/')\n",
    "    except:\n",
    "        month, day, year = birthdate.split('-')\n",
    "    month, day, year = int(month), int(day), int(year)\n",
    "    return 365*year + 30*month + day"
   ]
  },
  {
   "cell_type": "code",
   "execution_count": 24,
   "id": "generic-french",
   "metadata": {},
   "outputs": [],
   "source": [
    "clinical_df['AGE'] = clinical_df['DOB'].apply(birthdate_to_age)\n",
    "clinical_df['AGE'] = clinical_df['AGE'] - np.mean(clinical_df['AGE'])\n",
    "del clinical_df['DOB']"
   ]
  },
  {
   "cell_type": "code",
   "execution_count": 25,
   "id": "developmental-spencer",
   "metadata": {},
   "outputs": [
    {
     "data": {
      "text/html": [
       "<div>\n",
       "<style scoped>\n",
       "    .dataframe tbody tr th:only-of-type {\n",
       "        vertical-align: middle;\n",
       "    }\n",
       "\n",
       "    .dataframe tbody tr th {\n",
       "        vertical-align: top;\n",
       "    }\n",
       "\n",
       "    .dataframe thead th {\n",
       "        text-align: right;\n",
       "    }\n",
       "</style>\n",
       "<table border=\"1\" class=\"dataframe\">\n",
       "  <thead>\n",
       "    <tr style=\"text-align: right;\">\n",
       "      <th></th>\n",
       "      <th>ID</th>\n",
       "      <th>LABEL</th>\n",
       "      <th>GENDER</th>\n",
       "      <th>LYMPH_COUNT</th>\n",
       "      <th>AGE</th>\n",
       "    </tr>\n",
       "  </thead>\n",
       "  <tbody>\n",
       "    <tr>\n",
       "      <th>0</th>\n",
       "      <td>P26</td>\n",
       "      <td>1</td>\n",
       "      <td>M</td>\n",
       "      <td>11.2</td>\n",
       "      <td>-6785.414634</td>\n",
       "    </tr>\n",
       "    <tr>\n",
       "      <th>1</th>\n",
       "      <td>P183</td>\n",
       "      <td>1</td>\n",
       "      <td>M</td>\n",
       "      <td>12.8</td>\n",
       "      <td>-3668.414634</td>\n",
       "    </tr>\n",
       "    <tr>\n",
       "      <th>2</th>\n",
       "      <td>P89</td>\n",
       "      <td>1</td>\n",
       "      <td>M</td>\n",
       "      <td>9.6</td>\n",
       "      <td>-6189.414634</td>\n",
       "    </tr>\n",
       "    <tr>\n",
       "      <th>3</th>\n",
       "      <td>P123</td>\n",
       "      <td>1</td>\n",
       "      <td>M</td>\n",
       "      <td>122.6</td>\n",
       "      <td>-7791.414634</td>\n",
       "    </tr>\n",
       "    <tr>\n",
       "      <th>4</th>\n",
       "      <td>P61</td>\n",
       "      <td>1</td>\n",
       "      <td>F</td>\n",
       "      <td>11.6</td>\n",
       "      <td>-7753.414634</td>\n",
       "    </tr>\n",
       "  </tbody>\n",
       "</table>\n",
       "</div>"
      ],
      "text/plain": [
       "     ID  LABEL GENDER  LYMPH_COUNT          AGE\n",
       "0   P26      1      M         11.2 -6785.414634\n",
       "1  P183      1      M         12.8 -3668.414634\n",
       "2   P89      1      M          9.6 -6189.414634\n",
       "3  P123      1      M        122.6 -7791.414634\n",
       "4   P61      1      F         11.6 -7753.414634"
      ]
     },
     "execution_count": 25,
     "metadata": {},
     "output_type": "execute_result"
    }
   ],
   "source": [
    "clinical_df.head()"
   ]
  },
  {
   "cell_type": "code",
   "execution_count": 26,
   "id": "related-rings",
   "metadata": {},
   "outputs": [
    {
     "data": {
      "text/html": [
       "<div>\n",
       "<style scoped>\n",
       "    .dataframe tbody tr th:only-of-type {\n",
       "        vertical-align: middle;\n",
       "    }\n",
       "\n",
       "    .dataframe tbody tr th {\n",
       "        vertical-align: top;\n",
       "    }\n",
       "\n",
       "    .dataframe thead th {\n",
       "        text-align: right;\n",
       "    }\n",
       "</style>\n",
       "<table border=\"1\" class=\"dataframe\">\n",
       "  <thead>\n",
       "    <tr style=\"text-align: right;\">\n",
       "      <th></th>\n",
       "      <th>ID</th>\n",
       "      <th>LABEL</th>\n",
       "      <th>GENDER</th>\n",
       "      <th>LYMPH_COUNT</th>\n",
       "      <th>AGE</th>\n",
       "      <th>GENDER_ID</th>\n",
       "    </tr>\n",
       "  </thead>\n",
       "  <tbody>\n",
       "    <tr>\n",
       "      <th>0</th>\n",
       "      <td>P26</td>\n",
       "      <td>1</td>\n",
       "      <td>M</td>\n",
       "      <td>11.2</td>\n",
       "      <td>-6785.414634</td>\n",
       "      <td>0</td>\n",
       "    </tr>\n",
       "    <tr>\n",
       "      <th>1</th>\n",
       "      <td>P183</td>\n",
       "      <td>1</td>\n",
       "      <td>M</td>\n",
       "      <td>12.8</td>\n",
       "      <td>-3668.414634</td>\n",
       "      <td>0</td>\n",
       "    </tr>\n",
       "    <tr>\n",
       "      <th>2</th>\n",
       "      <td>P89</td>\n",
       "      <td>1</td>\n",
       "      <td>M</td>\n",
       "      <td>9.6</td>\n",
       "      <td>-6189.414634</td>\n",
       "      <td>0</td>\n",
       "    </tr>\n",
       "    <tr>\n",
       "      <th>3</th>\n",
       "      <td>P123</td>\n",
       "      <td>1</td>\n",
       "      <td>M</td>\n",
       "      <td>122.6</td>\n",
       "      <td>-7791.414634</td>\n",
       "      <td>0</td>\n",
       "    </tr>\n",
       "    <tr>\n",
       "      <th>4</th>\n",
       "      <td>P61</td>\n",
       "      <td>1</td>\n",
       "      <td>F</td>\n",
       "      <td>11.6</td>\n",
       "      <td>-7753.414634</td>\n",
       "      <td>1</td>\n",
       "    </tr>\n",
       "  </tbody>\n",
       "</table>\n",
       "</div>"
      ],
      "text/plain": [
       "     ID  LABEL GENDER  LYMPH_COUNT          AGE  GENDER_ID\n",
       "0   P26      1      M         11.2 -6785.414634          0\n",
       "1  P183      1      M         12.8 -3668.414634          0\n",
       "2   P89      1      M          9.6 -6189.414634          0\n",
       "3  P123      1      M        122.6 -7791.414634          0\n",
       "4   P61      1      F         11.6 -7753.414634          1"
      ]
     },
     "execution_count": 26,
     "metadata": {},
     "output_type": "execute_result"
    }
   ],
   "source": [
    "clinical_df['GENDER_ID'] = (clinical_df['GENDER'] != 'M')*1\n",
    "clinical_df.head()"
   ]
  },
  {
   "cell_type": "code",
   "execution_count": 27,
   "id": "sharing-virginia",
   "metadata": {},
   "outputs": [],
   "source": [
    "train_data = clinical_df[clinical_df['LABEL']!=-1]"
   ]
  },
  {
   "cell_type": "code",
   "execution_count": 296,
   "id": "polyphonic-worst",
   "metadata": {},
   "outputs": [],
   "source": [
    "index_to_id, X, y = train_data['ID'].to_numpy(), train_data[['LYMPH_COUNT', 'AGE', 'GENDER_ID']].to_numpy(),train_data['LABEL'].to_numpy() "
   ]
  },
  {
   "cell_type": "code",
   "execution_count": 335,
   "id": "pregnant-investor",
   "metadata": {},
   "outputs": [],
   "source": [
    "from sklearn.model_selection import train_test_split\n",
    "from sklearn.preprocessing import StandardScaler\n",
    "\n",
    "scaler = StandardScaler()\n",
    "X_train, X_val, y_train, y_val = train_test_split(X, y, test_size=0.25)\n",
    "X_train = scaler.fit_transform(X_train)\n",
    "X_val = scaler.fit_transform(X_val)\n",
    "X_scaled = scaler.fit_transform(X)"
   ]
  },
  {
   "cell_type": "code",
   "execution_count": 359,
   "id": "entertaining-scheduling",
   "metadata": {},
   "outputs": [],
   "source": [
    "def CV_model(model, n_fold = 20):\n",
    "    score = []\n",
    "    for n in range(n_fold):\n",
    "        X_train, X_val, y_train, y_val = train_test_split(X, y, test_size=0.25)\n",
    "        X_train = scaler.fit_transform(X_train)\n",
    "        X_val = scaler.fit_transform(X_val)\n",
    "        clf = model.fit(X_train, y_train)\n",
    "        y_pred = clf.predict(X_val)\n",
    "        score.append(balanced_accuracy_score(y_pred, y_val))\n",
    "    return np.mean(score), np.std(score)"
   ]
  },
  {
   "cell_type": "code",
   "execution_count": 360,
   "id": "upset-eugene",
   "metadata": {},
   "outputs": [
    {
     "name": "stderr",
     "output_type": "stream",
     "text": [
      "/home/nathan/.local/lib/python3.8/site-packages/sklearn/metrics/_classification.py:1850: UserWarning: y_pred contains classes not in y_true\n",
      "  warnings.warn('y_pred contains classes not in y_true')\n",
      "/home/nathan/.local/lib/python3.8/site-packages/sklearn/metrics/_classification.py:1850: UserWarning: y_pred contains classes not in y_true\n",
      "  warnings.warn('y_pred contains classes not in y_true')\n"
     ]
    },
    {
     "name": "stdout",
     "output_type": "stream",
     "text": [
      "0.7653900528653429 0.09065758213017287\n"
     ]
    }
   ],
   "source": [
    "from sklearn.ensemble import GradientBoostingClassifier\n",
    "from sklearn.metrics import balanced_accuracy_score\n",
    "\n",
    "m, std = CV_model(GradientBoostingClassifier(learning_rate=.1))\n",
    "print(m, std)"
   ]
  },
  {
   "cell_type": "code",
   "execution_count": 361,
   "id": "binary-heaven",
   "metadata": {},
   "outputs": [
    {
     "name": "stdout",
     "output_type": "stream",
     "text": [
      "0.8213668624171285 0.05950713101978695\n"
     ]
    }
   ],
   "source": [
    "from sklearn.ensemble import AdaBoostClassifier\n",
    "from sklearn.metrics import balanced_accuracy_score\n",
    "\n",
    "m, std = CV_model(AdaBoostClassifier(learning_rate=.05))\n",
    "print(m, std)"
   ]
  },
  {
   "cell_type": "code",
   "execution_count": 362,
   "id": "likely-pilot",
   "metadata": {},
   "outputs": [
    {
     "name": "stderr",
     "output_type": "stream",
     "text": [
      "/home/nathan/.local/lib/python3.8/site-packages/sklearn/metrics/_classification.py:1850: UserWarning: y_pred contains classes not in y_true\n",
      "  warnings.warn('y_pred contains classes not in y_true')\n",
      "/home/nathan/.local/lib/python3.8/site-packages/sklearn/metrics/_classification.py:1850: UserWarning: y_pred contains classes not in y_true\n",
      "  warnings.warn('y_pred contains classes not in y_true')\n"
     ]
    },
    {
     "name": "stdout",
     "output_type": "stream",
     "text": [
      "0.741097972953176 0.05574521163371442\n"
     ]
    }
   ],
   "source": [
    "from sklearn.ensemble import RandomForestClassifier\n",
    "from sklearn.metrics import balanced_accuracy_score\n",
    "\n",
    "m, std = CV_model(RandomForestClassifier())\n",
    "print(m, std)"
   ]
  },
  {
   "cell_type": "code",
   "execution_count": 363,
   "id": "stuck-taiwan",
   "metadata": {},
   "outputs": [
    {
     "name": "stdout",
     "output_type": "stream",
     "text": [
      "0.828430232862752 0.06189317333338591\n"
     ]
    }
   ],
   "source": [
    "from sklearn.linear_model import LogisticRegression\n",
    "from sklearn.metrics import balanced_accuracy_score\n",
    "\n",
    "m, std = CV_model(LogisticRegression())\n",
    "print(m, std)"
   ]
  },
  {
   "cell_type": "code",
   "execution_count": 364,
   "id": "precise-calvin",
   "metadata": {},
   "outputs": [
    {
     "name": "stdout",
     "output_type": "stream",
     "text": [
      "0.7842965449253992 0.09050660813835158\n"
     ]
    }
   ],
   "source": [
    "from sklearn.svm import SVC\n",
    "from sklearn.metrics import balanced_accuracy_score\n",
    "\n",
    "m, std = CV_model(SVC())\n",
    "print(m, std)"
   ]
  },
  {
   "cell_type": "code",
   "execution_count": 365,
   "id": "soviet-cleaners",
   "metadata": {},
   "outputs": [
    {
     "name": "stdout",
     "output_type": "stream",
     "text": [
      "0.7794795785227013 0.06805819401859192\n"
     ]
    },
    {
     "name": "stderr",
     "output_type": "stream",
     "text": [
      "/home/nathan/.local/lib/python3.8/site-packages/sklearn/metrics/_classification.py:1850: UserWarning: y_pred contains classes not in y_true\n",
      "  warnings.warn('y_pred contains classes not in y_true')\n"
     ]
    }
   ],
   "source": [
    "from sklearn.tree import DecisionTreeClassifier\n",
    "from sklearn.metrics import balanced_accuracy_score\n",
    "\n",
    "m, std = CV_model(DecisionTreeClassifier())\n",
    "print(m, std)"
   ]
  },
  {
   "cell_type": "code",
   "execution_count": 176,
   "id": "undefined-diesel",
   "metadata": {},
   "outputs": [
    {
     "name": "stdout",
     "output_type": "stream",
     "text": [
      "[[ 2.13682263 -1.35964841 -0.48525626]]\n"
     ]
    }
   ],
   "source": [
    "print(clf.coef_)"
   ]
  },
  {
   "cell_type": "code",
   "execution_count": 330,
   "id": "infrared-thanksgiving",
   "metadata": {},
   "outputs": [],
   "source": [
    "test_data = clinical_df[clinical_df['LABEL']==-1]"
   ]
  },
  {
   "cell_type": "code",
   "execution_count": 331,
   "id": "velvet-circus",
   "metadata": {},
   "outputs": [],
   "source": [
    "index_to_id_test, X_test, y_test = test_data['ID'].to_numpy(), test_data[['LYMPH_COUNT', 'AGE', 'GENDER_ID']].to_numpy(),test_data['LABEL'].to_numpy() "
   ]
  },
  {
   "cell_type": "code",
   "execution_count": 332,
   "id": "paperback-hebrew",
   "metadata": {},
   "outputs": [],
   "source": [
    "X_test = scaler.fit_transform(X_test)"
   ]
  },
  {
   "cell_type": "code",
   "execution_count": 333,
   "id": "dimensional-saver",
   "metadata": {},
   "outputs": [],
   "source": [
    "y_pred_test = clf.predict(X_test)"
   ]
  },
  {
   "cell_type": "code",
   "execution_count": 334,
   "id": "refined-supplier",
   "metadata": {},
   "outputs": [
    {
     "data": {
      "text/plain": [
       "array([['P71', 1],\n",
       "       ['P16', 1],\n",
       "       ['P114', 1],\n",
       "       ['P170', 1],\n",
       "       ['P98', 1],\n",
       "       ['P69', 1],\n",
       "       ['P92', 1],\n",
       "       ['P132', 1],\n",
       "       ['P81', 1],\n",
       "       ['P73', 1],\n",
       "       ['P143', 1],\n",
       "       ['P175', 1],\n",
       "       ['P56', 1],\n",
       "       ['P139', 1],\n",
       "       ['P152', 1],\n",
       "       ['P203', 1],\n",
       "       ['P75', 1],\n",
       "       ['P9', 1],\n",
       "       ['P24', 1],\n",
       "       ['P4', 0],\n",
       "       ['P32', 1],\n",
       "       ['P120', 1],\n",
       "       ['P138', 1],\n",
       "       ['P172', 1],\n",
       "       ['P57', 1],\n",
       "       ['P195', 1],\n",
       "       ['P68', 0],\n",
       "       ['P133', 1],\n",
       "       ['P14', 1],\n",
       "       ['P119', 1],\n",
       "       ['P7', 0],\n",
       "       ['P49', 1],\n",
       "       ['P93', 1],\n",
       "       ['P178', 0],\n",
       "       ['P58', 1],\n",
       "       ['P108', 1],\n",
       "       ['P197', 1],\n",
       "       ['P196', 1],\n",
       "       ['P86', 1],\n",
       "       ['P18', 1],\n",
       "       ['P188', 1],\n",
       "       ['P148', 1]], dtype=object)"
      ]
     },
     "execution_count": 334,
     "metadata": {},
     "output_type": "execute_result"
    }
   ],
   "source": [
    "np.array([index_to_id_test, y_pred_test]).T"
   ]
  },
  {
   "cell_type": "code",
   "execution_count": 180,
   "id": "whole-joining",
   "metadata": {},
   "outputs": [],
   "source": [
    "result_df = pd.DataFrame(data = np.array([index_to_id_test, y_pred_test]).T, columns= ['ID', 'LABEL'])"
   ]
  },
  {
   "cell_type": "code",
   "execution_count": 108,
   "id": "surgical-attitude",
   "metadata": {
    "scrolled": true
   },
   "outputs": [
    {
     "data": {
      "text/html": [
       "<div>\n",
       "<style scoped>\n",
       "    .dataframe tbody tr th:only-of-type {\n",
       "        vertical-align: middle;\n",
       "    }\n",
       "\n",
       "    .dataframe tbody tr th {\n",
       "        vertical-align: top;\n",
       "    }\n",
       "\n",
       "    .dataframe thead th {\n",
       "        text-align: right;\n",
       "    }\n",
       "</style>\n",
       "<table border=\"1\" class=\"dataframe\">\n",
       "  <thead>\n",
       "    <tr style=\"text-align: right;\">\n",
       "      <th></th>\n",
       "      <th>ID</th>\n",
       "      <th>LABEL</th>\n",
       "    </tr>\n",
       "  </thead>\n",
       "  <tbody>\n",
       "    <tr>\n",
       "      <th>0</th>\n",
       "      <td>P71</td>\n",
       "      <td>1</td>\n",
       "    </tr>\n",
       "    <tr>\n",
       "      <th>1</th>\n",
       "      <td>P16</td>\n",
       "      <td>1</td>\n",
       "    </tr>\n",
       "    <tr>\n",
       "      <th>2</th>\n",
       "      <td>P114</td>\n",
       "      <td>1</td>\n",
       "    </tr>\n",
       "    <tr>\n",
       "      <th>3</th>\n",
       "      <td>P170</td>\n",
       "      <td>1</td>\n",
       "    </tr>\n",
       "    <tr>\n",
       "      <th>4</th>\n",
       "      <td>P98</td>\n",
       "      <td>0</td>\n",
       "    </tr>\n",
       "    <tr>\n",
       "      <th>5</th>\n",
       "      <td>P69</td>\n",
       "      <td>0</td>\n",
       "    </tr>\n",
       "    <tr>\n",
       "      <th>6</th>\n",
       "      <td>P92</td>\n",
       "      <td>1</td>\n",
       "    </tr>\n",
       "    <tr>\n",
       "      <th>7</th>\n",
       "      <td>P132</td>\n",
       "      <td>1</td>\n",
       "    </tr>\n",
       "    <tr>\n",
       "      <th>8</th>\n",
       "      <td>P81</td>\n",
       "      <td>0</td>\n",
       "    </tr>\n",
       "    <tr>\n",
       "      <th>9</th>\n",
       "      <td>P73</td>\n",
       "      <td>1</td>\n",
       "    </tr>\n",
       "    <tr>\n",
       "      <th>10</th>\n",
       "      <td>P143</td>\n",
       "      <td>1</td>\n",
       "    </tr>\n",
       "    <tr>\n",
       "      <th>11</th>\n",
       "      <td>P175</td>\n",
       "      <td>0</td>\n",
       "    </tr>\n",
       "    <tr>\n",
       "      <th>12</th>\n",
       "      <td>P56</td>\n",
       "      <td>0</td>\n",
       "    </tr>\n",
       "    <tr>\n",
       "      <th>13</th>\n",
       "      <td>P139</td>\n",
       "      <td>0</td>\n",
       "    </tr>\n",
       "    <tr>\n",
       "      <th>14</th>\n",
       "      <td>P152</td>\n",
       "      <td>1</td>\n",
       "    </tr>\n",
       "    <tr>\n",
       "      <th>15</th>\n",
       "      <td>P203</td>\n",
       "      <td>0</td>\n",
       "    </tr>\n",
       "    <tr>\n",
       "      <th>16</th>\n",
       "      <td>P75</td>\n",
       "      <td>1</td>\n",
       "    </tr>\n",
       "    <tr>\n",
       "      <th>17</th>\n",
       "      <td>P9</td>\n",
       "      <td>1</td>\n",
       "    </tr>\n",
       "    <tr>\n",
       "      <th>18</th>\n",
       "      <td>P24</td>\n",
       "      <td>0</td>\n",
       "    </tr>\n",
       "    <tr>\n",
       "      <th>19</th>\n",
       "      <td>P4</td>\n",
       "      <td>0</td>\n",
       "    </tr>\n",
       "    <tr>\n",
       "      <th>20</th>\n",
       "      <td>P32</td>\n",
       "      <td>0</td>\n",
       "    </tr>\n",
       "    <tr>\n",
       "      <th>21</th>\n",
       "      <td>P120</td>\n",
       "      <td>1</td>\n",
       "    </tr>\n",
       "    <tr>\n",
       "      <th>22</th>\n",
       "      <td>P138</td>\n",
       "      <td>1</td>\n",
       "    </tr>\n",
       "    <tr>\n",
       "      <th>23</th>\n",
       "      <td>P172</td>\n",
       "      <td>0</td>\n",
       "    </tr>\n",
       "    <tr>\n",
       "      <th>24</th>\n",
       "      <td>P57</td>\n",
       "      <td>0</td>\n",
       "    </tr>\n",
       "    <tr>\n",
       "      <th>25</th>\n",
       "      <td>P195</td>\n",
       "      <td>1</td>\n",
       "    </tr>\n",
       "    <tr>\n",
       "      <th>26</th>\n",
       "      <td>P68</td>\n",
       "      <td>0</td>\n",
       "    </tr>\n",
       "    <tr>\n",
       "      <th>27</th>\n",
       "      <td>P133</td>\n",
       "      <td>1</td>\n",
       "    </tr>\n",
       "    <tr>\n",
       "      <th>28</th>\n",
       "      <td>P14</td>\n",
       "      <td>1</td>\n",
       "    </tr>\n",
       "    <tr>\n",
       "      <th>29</th>\n",
       "      <td>P119</td>\n",
       "      <td>0</td>\n",
       "    </tr>\n",
       "    <tr>\n",
       "      <th>30</th>\n",
       "      <td>P7</td>\n",
       "      <td>0</td>\n",
       "    </tr>\n",
       "    <tr>\n",
       "      <th>31</th>\n",
       "      <td>P49</td>\n",
       "      <td>0</td>\n",
       "    </tr>\n",
       "    <tr>\n",
       "      <th>32</th>\n",
       "      <td>P93</td>\n",
       "      <td>0</td>\n",
       "    </tr>\n",
       "    <tr>\n",
       "      <th>33</th>\n",
       "      <td>P178</td>\n",
       "      <td>0</td>\n",
       "    </tr>\n",
       "    <tr>\n",
       "      <th>34</th>\n",
       "      <td>P58</td>\n",
       "      <td>0</td>\n",
       "    </tr>\n",
       "    <tr>\n",
       "      <th>35</th>\n",
       "      <td>P108</td>\n",
       "      <td>1</td>\n",
       "    </tr>\n",
       "    <tr>\n",
       "      <th>36</th>\n",
       "      <td>P197</td>\n",
       "      <td>0</td>\n",
       "    </tr>\n",
       "    <tr>\n",
       "      <th>37</th>\n",
       "      <td>P196</td>\n",
       "      <td>1</td>\n",
       "    </tr>\n",
       "    <tr>\n",
       "      <th>38</th>\n",
       "      <td>P86</td>\n",
       "      <td>1</td>\n",
       "    </tr>\n",
       "    <tr>\n",
       "      <th>39</th>\n",
       "      <td>P18</td>\n",
       "      <td>0</td>\n",
       "    </tr>\n",
       "    <tr>\n",
       "      <th>40</th>\n",
       "      <td>P188</td>\n",
       "      <td>1</td>\n",
       "    </tr>\n",
       "    <tr>\n",
       "      <th>41</th>\n",
       "      <td>P148</td>\n",
       "      <td>1</td>\n",
       "    </tr>\n",
       "  </tbody>\n",
       "</table>\n",
       "</div>"
      ],
      "text/plain": [
       "      ID LABEL\n",
       "0    P71     1\n",
       "1    P16     1\n",
       "2   P114     1\n",
       "3   P170     1\n",
       "4    P98     0\n",
       "5    P69     0\n",
       "6    P92     1\n",
       "7   P132     1\n",
       "8    P81     0\n",
       "9    P73     1\n",
       "10  P143     1\n",
       "11  P175     0\n",
       "12   P56     0\n",
       "13  P139     0\n",
       "14  P152     1\n",
       "15  P203     0\n",
       "16   P75     1\n",
       "17    P9     1\n",
       "18   P24     0\n",
       "19    P4     0\n",
       "20   P32     0\n",
       "21  P120     1\n",
       "22  P138     1\n",
       "23  P172     0\n",
       "24   P57     0\n",
       "25  P195     1\n",
       "26   P68     0\n",
       "27  P133     1\n",
       "28   P14     1\n",
       "29  P119     0\n",
       "30    P7     0\n",
       "31   P49     0\n",
       "32   P93     0\n",
       "33  P178     0\n",
       "34   P58     0\n",
       "35  P108     1\n",
       "36  P197     0\n",
       "37  P196     1\n",
       "38   P86     1\n",
       "39   P18     0\n",
       "40  P188     1\n",
       "41  P148     1"
      ]
     },
     "execution_count": 108,
     "metadata": {},
     "output_type": "execute_result"
    }
   ],
   "source": [
    "result_df"
   ]
  },
  {
   "cell_type": "code",
   "execution_count": 62,
   "id": "prescription-short",
   "metadata": {},
   "outputs": [],
   "source": [
    "result_df.to_csv('result_logreg.csv', index=False)"
   ]
  },
  {
   "cell_type": "code",
   "execution_count": 181,
   "id": "boxed-electronics",
   "metadata": {},
   "outputs": [
    {
     "name": "stdout",
     "output_type": "stream",
     "text": [
      "                LABEL  LYMPH_COUNT       AGE  GENDER_ID\n",
      "LABEL        1.000000     0.657374 -0.484758  -0.030689\n",
      "LYMPH_COUNT  0.657374     1.000000 -0.323321  -0.023861\n",
      "AGE         -0.484758    -0.323321  1.000000  -0.139122\n",
      "GENDER_ID   -0.030689    -0.023861 -0.139122   1.000000\n"
     ]
    }
   ],
   "source": [
    "import seaborn as sns\n",
    "\n",
    "# calculate the correlation matrix\n",
    "corr = train_data.corr('spearman')\n",
    "\n",
    "# plot the heatmap\n",
    "print(corr)"
   ]
  },
  {
   "cell_type": "code",
   "execution_count": 190,
   "id": "stainless-printing",
   "metadata": {},
   "outputs": [],
   "source": [
    "y_pred_probas = clf.predict_proba(X)"
   ]
  },
  {
   "cell_type": "code",
   "execution_count": 327,
   "id": "unique-dining",
   "metadata": {},
   "outputs": [],
   "source": [
    "cols = np.hstack((y_pred_probas[:,0].reshape(-1,1), np.zeros((len(y_pred_probas),1)),np.ones((len(y_pred_probas),1))))"
   ]
  },
  {
   "cell_type": "code",
   "execution_count": 328,
   "id": "hollywood-gauge",
   "metadata": {},
   "outputs": [
    {
     "name": "stderr",
     "output_type": "stream",
     "text": [
      "/home/nathan/.local/lib/python3.8/site-packages/matplotlib/collections.py:1039: UserWarning: Collection without array used. Make sure to specify the values to be colormapped via the `c` argument.\n",
      "  warnings.warn(\"Collection without array used. Make sure to \"\n"
     ]
    },
    {
     "data": {
      "text/plain": [
       "<matplotlib.legend.Legend at 0x7fcb644a9280>"
      ]
     },
     "execution_count": 328,
     "metadata": {},
     "output_type": "execute_result"
    },
    {
     "data": {
      "image/png": "[encoded data removed]",
      "text/plain": [
       "<Figure size 432x288 with 1 Axes>"
      ]
     },
     "metadata": {
      "needs_background": "light"
     },
     "output_type": "display_data"
    }
   ],
   "source": [
    "scatter = plt.scatter(train_data['LYMPH_COUNT'], train_data['AGE'], c=cols)\n",
    "plt.xlabel('Lymphocytosis count')\n",
    "plt.ylabel('Age')\n",
    "plt.legend(*scatter.legend_elements(),title=\"Label\")"
   ]
  },
  {
   "cell_type": "code",
   "execution_count": 198,
   "id": "empirical-couple",
   "metadata": {},
   "outputs": [
    {
     "data": {
      "text/plain": [
       "[Text(495.5921052631579, 770.1, 'X[0] <= -0.401\\ngini = 0.422\\nsamples = 109\\nvalue = [33, 76]'),\n",
       " Text(242.28947368421052, 679.5, 'X[1] <= -0.477\\ngini = 0.429\\nsamples = 45\\nvalue = [31, 14]'),\n",
       " Text(88.10526315789474, 588.9, 'X[0] <= -0.438\\ngini = 0.32\\nsamples = 10\\nvalue = [2, 8]'),\n",
       " Text(44.05263157894737, 498.3, 'gini = 0.0\\nsamples = 5\\nvalue = [0, 5]'),\n",
       " Text(132.1578947368421, 498.3, 'X[2] <= 0.158\\ngini = 0.48\\nsamples = 5\\nvalue = [2, 3]'),\n",
       " Text(88.10526315789474, 407.7, 'gini = 0.0\\nsamples = 2\\nvalue = [0, 2]'),\n",
       " Text(176.21052631578948, 407.7, 'X[1] <= -1.275\\ngini = 0.444\\nsamples = 3\\nvalue = [2, 1]'),\n",
       " Text(132.1578947368421, 317.1, 'gini = 0.0\\nsamples = 1\\nvalue = [0, 1]'),\n",
       " Text(220.26315789473685, 317.1, 'gini = 0.0\\nsamples = 2\\nvalue = [2, 0]'),\n",
       " Text(396.47368421052636, 588.9, 'X[1] <= 0.524\\ngini = 0.284\\nsamples = 35\\nvalue = [29, 6]'),\n",
       " Text(308.36842105263156, 498.3, 'X[1] <= -0.253\\ngini = 0.444\\nsamples = 15\\nvalue = [10, 5]'),\n",
       " Text(264.3157894736842, 407.7, 'gini = 0.0\\nsamples = 5\\nvalue = [5, 0]'),\n",
       " Text(352.42105263157896, 407.7, 'X[0] <= -0.45\\ngini = 0.5\\nsamples = 10\\nvalue = [5, 5]'),\n",
       " Text(308.36842105263156, 317.1, 'gini = 0.0\\nsamples = 2\\nvalue = [2, 0]'),\n",
       " Text(396.47368421052636, 317.1, 'X[0] <= -0.412\\ngini = 0.469\\nsamples = 8\\nvalue = [3, 5]'),\n",
       " Text(352.42105263157896, 226.5, 'X[1] <= 0.247\\ngini = 0.408\\nsamples = 7\\nvalue = [2, 5]'),\n",
       " Text(308.36842105263156, 135.89999999999998, 'gini = 0.0\\nsamples = 4\\nvalue = [0, 4]'),\n",
       " Text(396.47368421052636, 135.89999999999998, 'X[1] <= 0.423\\ngini = 0.444\\nsamples = 3\\nvalue = [2, 1]'),\n",
       " Text(352.42105263157896, 45.30000000000007, 'gini = 0.0\\nsamples = 2\\nvalue = [2, 0]'),\n",
       " Text(440.5263157894737, 45.30000000000007, 'gini = 0.0\\nsamples = 1\\nvalue = [0, 1]'),\n",
       " Text(440.5263157894737, 226.5, 'gini = 0.0\\nsamples = 1\\nvalue = [1, 0]'),\n",
       " Text(484.57894736842104, 498.3, 'X[0] <= -0.424\\ngini = 0.095\\nsamples = 20\\nvalue = [19, 1]'),\n",
       " Text(440.5263157894737, 407.7, 'gini = 0.0\\nsamples = 13\\nvalue = [13, 0]'),\n",
       " Text(528.6315789473684, 407.7, 'X[0] <= -0.418\\ngini = 0.245\\nsamples = 7\\nvalue = [6, 1]'),\n",
       " Text(484.57894736842104, 317.1, 'gini = 0.0\\nsamples = 1\\nvalue = [0, 1]'),\n",
       " Text(572.6842105263158, 317.1, 'gini = 0.0\\nsamples = 6\\nvalue = [6, 0]'),\n",
       " Text(748.8947368421053, 679.5, 'X[0] <= -0.375\\ngini = 0.061\\nsamples = 64\\nvalue = [2, 62]'),\n",
       " Text(704.8421052631579, 588.9, 'X[1] <= 0.706\\ngini = 0.408\\nsamples = 7\\nvalue = [2, 5]'),\n",
       " Text(660.7894736842105, 498.3, 'X[0] <= -0.377\\ngini = 0.278\\nsamples = 6\\nvalue = [1, 5]'),\n",
       " Text(616.7368421052631, 407.7, 'gini = 0.0\\nsamples = 5\\nvalue = [0, 5]'),\n",
       " Text(704.8421052631579, 407.7, 'gini = 0.0\\nsamples = 1\\nvalue = [1, 0]'),\n",
       " Text(748.8947368421053, 498.3, 'gini = 0.0\\nsamples = 1\\nvalue = [1, 0]'),\n",
       " Text(792.9473684210527, 588.9, 'gini = 0.0\\nsamples = 57\\nvalue = [0, 57]')]"
      ]
     },
     "execution_count": 198,
     "metadata": {},
     "output_type": "execute_result"
    },
    {
     "data": {
      "image/png": "[encoded data removed]",
      "text/plain": [
       "<Figure size 1080x1080 with 1 Axes>"
      ]
     },
     "metadata": {
      "needs_background": "light"
     },
     "output_type": "display_data"
    }
   ],
   "source": [
    "from sklearn import tree\n",
    "\n",
    "plt.figure(figsize=(15,15))\n",
    "tree.plot_tree(clf)"
   ]
  },
  {
   "cell_type": "code",
   "execution_count": 203,
   "id": "selective-positive",
   "metadata": {},
   "outputs": [
    {
     "data": {
      "text/plain": [
       "<matplotlib.legend.Legend at 0x7fcb6c0d3dc0>"
      ]
     },
     "execution_count": 203,
     "metadata": {},
     "output_type": "execute_result"
    },
    {
     "data": {
      "image/png": "[encoded data removed]",
      "text/plain": [
       "<Figure size 432x288 with 1 Axes>"
      ]
     },
     "metadata": {
      "needs_background": "light"
     },
     "output_type": "display_data"
    }
   ],
   "source": [
    "from sklearn.decomposition import TruncatedSVD\n",
    "\n",
    "X_embedded = TruncatedSVD(n_components=2).fit_transform(X)\n",
    "scatter = plt.scatter(X_embedded[:,0], X_embedded[:,1], c=train_data['LABEL'])\n",
    "plt.legend(*scatter.legend_elements(),title=\"Label\")"
   ]
  }
 ],
 "metadata": {
  "kernelspec": {
   "display_name": "Python 3",
   "language": "python",
   "name": "python3"
  },
  "language_info": {
   "codemirror_mode": {
    "name": "ipython",
    "version": 3
   },
   "file_extension": ".py",
   "mimetype": "text/x-python",
   "name": "python",
   "nbconvert_exporter": "python",
   "pygments_lexer": "ipython3",
   "version": "3.8.7"
  }
 },
 "nbformat": 4,
 "nbformat_minor": 5
}
